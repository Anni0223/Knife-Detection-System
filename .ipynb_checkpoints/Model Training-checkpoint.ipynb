{
 "cells": [
  {
   "cell_type": "code",
   "execution_count": 1,
   "id": "3b7a3c89",
   "metadata": {},
   "outputs": [],
   "source": [
    "import os"
   ]
  },
  {
   "cell_type": "code",
   "execution_count": 2,
   "id": "00ff3a81",
   "metadata": {},
   "outputs": [
    {
     "data": {
      "text/plain": [
       "'C:\\\\Users\\\\91938\\\\Desktop\\\\knife detection'"
      ]
     },
     "execution_count": 2,
     "metadata": {},
     "output_type": "execute_result"
    }
   ],
   "source": [
    "os.getcwd() "
   ]
  },
  {
   "cell_type": "code",
   "execution_count": 3,
   "id": "7c7e9ac4",
   "metadata": {},
   "outputs": [],
   "source": [
    "path_dataset=os.path.join('C:\\\\Users\\\\91938\\\\Desktop\\\\knife detection','dataset') #Path for datasets\n"
   ]
  },
  {
   "cell_type": "code",
   "execution_count": null,
   "id": "680a9275",
   "metadata": {},
   "outputs": [],
   "source": []
  },
  {
   "cell_type": "code",
   "execution_count": 4,
   "id": "c94c0d06",
   "metadata": {},
   "outputs": [
    {
     "data": {
      "text/plain": [
       "['without_knife', 'with_knife']"
      ]
     },
     "execution_count": 4,
     "metadata": {},
     "output_type": "execute_result"
    }
   ],
   "source": [
    "os.listdir(path_dataset)"
   ]
  },
  {
   "cell_type": "code",
   "execution_count": 5,
   "id": "97aadde0",
   "metadata": {},
   "outputs": [],
   "source": [
    "Target_variable = os.listdir(path_dataset)"
   ]
  },
  {
   "cell_type": "code",
   "execution_count": 42,
   "id": "6e34a270",
   "metadata": {},
   "outputs": [],
   "source": [
    "data = [] \n",
    "labels = [] "
   ]
  },
  {
   "cell_type": "code",
   "execution_count": 43,
   "id": "64100c22",
   "metadata": {},
   "outputs": [],
   "source": [
    "from tensorflow.keras.preprocessing.image import load_img\n",
    "from tensorflow.keras.preprocessing.image import img_to_array\n",
    "from tensorflow.keras.applications.mobilenet_v2 import preprocess_input"
   ]
  },
  {
   "cell_type": "code",
   "execution_count": 44,
   "id": "5cd10c78",
   "metadata": {},
   "outputs": [],
   "source": [
    "for target in Target_variable:\n",
    "    path = os.path.join(path_dataset,target)   #We are inside the folder with_mask and without_mask\n",
    "    for img in os.listdir(path):      # We will get a list of images in the current path\n",
    "        img_path = os.path.join(path,img)\n",
    "        image = load_img(img_path,target_size = (224,224))  # Loads image with a target size\n",
    "        image = img_to_array(image)   # Converting image to an array.\n",
    "        image = preprocess_input(image)   # When we use mobilenets we have to preprocess_input\n",
    "        \n",
    "        data.append(image)\n",
    "        labels.append(target)\n",
    "    "
   ]
  },
  {
   "cell_type": "markdown",
   "id": "2e468e12",
   "metadata": {},
   "source": []
  },
  {
   "cell_type": "code",
   "execution_count": 45,
   "id": "fc5e8240",
   "metadata": {},
   "outputs": [],
   "source": [
    "from sklearn.preprocessing import LabelBinarizer"
   ]
  },
  {
   "cell_type": "code",
   "execution_count": 46,
   "id": "eaf7d59f",
   "metadata": {},
   "outputs": [],
   "source": [
    "lb = LabelBinarizer()\n",
    "labels = lb.fit_transform(labels)"
   ]
  },
  {
   "cell_type": "code",
   "execution_count": 47,
   "id": "f86e6683",
   "metadata": {},
   "outputs": [],
   "source": [
    "from tensorflow.keras.utils import to_categorical"
   ]
  },
  {
   "cell_type": "code",
   "execution_count": 48,
   "id": "e469497d",
   "metadata": {},
   "outputs": [],
   "source": [
    "labels = to_categorical(labels)"
   ]
  },
  {
   "cell_type": "code",
   "execution_count": null,
   "id": "82efa913",
   "metadata": {},
   "outputs": [],
   "source": []
  },
  {
   "cell_type": "code",
   "execution_count": null,
   "id": "5d5697c0",
   "metadata": {},
   "outputs": [],
   "source": []
  },
  {
   "cell_type": "code",
   "execution_count": null,
   "id": "011adec7",
   "metadata": {},
   "outputs": [],
   "source": []
  },
  {
   "cell_type": "code",
   "execution_count": 49,
   "id": "36f9aea7",
   "metadata": {},
   "outputs": [],
   "source": [
    "import numpy as np"
   ]
  },
  {
   "cell_type": "code",
   "execution_count": 50,
   "id": "6ddfac0f",
   "metadata": {},
   "outputs": [],
   "source": [
    "data = np.array(data,dtype=\"float32\")"
   ]
  },
  {
   "cell_type": "code",
   "execution_count": 51,
   "id": "cab27f13",
   "metadata": {},
   "outputs": [],
   "source": [
    "labels = np.array(labels)"
   ]
  },
  {
   "cell_type": "code",
   "execution_count": 52,
   "id": "56556464",
   "metadata": {},
   "outputs": [],
   "source": [
    "from sklearn.model_selection import train_test_split"
   ]
  },
  {
   "cell_type": "code",
   "execution_count": 53,
   "id": "e1fc17f6",
   "metadata": {},
   "outputs": [],
   "source": [
    "X_train,X_test,y_train,y_test = train_test_split(data,labels,test_size=.20,stratify = labels,random_state=42)"
   ]
  },
  {
   "cell_type": "code",
   "execution_count": null,
   "id": "96737c29",
   "metadata": {},
   "outputs": [],
   "source": []
  },
  {
   "cell_type": "code",
   "execution_count": 54,
   "id": "cd9bcaa2",
   "metadata": {},
   "outputs": [],
   "source": [
    "from tensorflow.keras.preprocessing.image import ImageDataGenerator"
   ]
  },
  {
   "cell_type": "code",
   "execution_count": 55,
   "id": "5cb528a7",
   "metadata": {},
   "outputs": [],
   "source": [
    "aug = ImageDataGenerator(\n",
    "    rotation_range=20,\n",
    "    zoom_range=0.15,\n",
    "    width_shift_range=0.2,\n",
    "    height_shift_range=0.2,\n",
    "    shear_range=0.15,\n",
    "    horizontal_flip=True,\n",
    "    fill_mode=\"nearest\")"
   ]
  },
  {
   "cell_type": "code",
   "execution_count": null,
   "id": "333172a1",
   "metadata": {},
   "outputs": [],
   "source": []
  },
  {
   "cell_type": "code",
   "execution_count": 56,
   "id": "aed40bc2",
   "metadata": {},
   "outputs": [],
   "source": [
    "Learning_rate = 1e-3 "
   ]
  },
  {
   "cell_type": "code",
   "execution_count": 57,
   "id": "9a24d900",
   "metadata": {},
   "outputs": [],
   "source": [
    "Epochs = 15"
   ]
  },
  {
   "cell_type": "code",
   "execution_count": 58,
   "id": "f961fbeb",
   "metadata": {},
   "outputs": [],
   "source": [
    "BS = 25"
   ]
  },
  {
   "cell_type": "code",
   "execution_count": 59,
   "id": "f2062ea5",
   "metadata": {},
   "outputs": [],
   "source": [
    "from tensorflow.keras.applications import MobileNetV2"
   ]
  },
  {
   "cell_type": "code",
   "execution_count": 60,
   "id": "91fa116a",
   "metadata": {},
   "outputs": [],
   "source": [
    "from tensorflow.keras.layers import Input"
   ]
  },
  {
   "cell_type": "code",
   "execution_count": 61,
   "id": "28011a7a",
   "metadata": {},
   "outputs": [
    {
     "name": "stdout",
     "output_type": "stream",
     "text": [
      "WARNING:tensorflow:`input_shape` is undefined or non-square, or `rows` is not in [96, 128, 160, 192, 224]. Weights for input shape (224, 224) will be loaded as the default.\n"
     ]
    }
   ],
   "source": [
    "base_model = MobileNetV2(weights = 'imagenet',include_top = False,input_tensor = Input(shape=(224,224,3)))"
   ]
  },
  {
   "cell_type": "code",
   "execution_count": null,
   "id": "44ae5100",
   "metadata": {},
   "outputs": [],
   "source": []
  },
  {
   "cell_type": "code",
   "execution_count": 62,
   "id": "17085213",
   "metadata": {},
   "outputs": [],
   "source": [
    "from tensorflow.keras.layers import AveragePooling2D\n",
    "from tensorflow.keras.layers import Dropout\n",
    "from tensorflow.keras.layers import Flatten\n",
    "from tensorflow.keras.layers import Dense"
   ]
  },
  {
   "cell_type": "code",
   "execution_count": 63,
   "id": "42286061",
   "metadata": {},
   "outputs": [],
   "source": [
    "headModel = base_model.output\n",
    "headModel = AveragePooling2D(pool_size=(7, 7))(headModel)\n",
    "headModel = Flatten(name=\"flatten\")(headModel)\n",
    "headModel = Dense(128, activation=\"relu\")(headModel)\n",
    "headModel = Dropout(0.5)(headModel)\n",
    "headModel = Dense(2, activation=\"softmax\")(headModel)"
   ]
  },
  {
   "cell_type": "code",
   "execution_count": 64,
   "id": "a4866c72",
   "metadata": {},
   "outputs": [],
   "source": [
    "from tensorflow.keras.models import Model"
   ]
  },
  {
   "cell_type": "code",
   "execution_count": 65,
   "id": "8466a94f",
   "metadata": {},
   "outputs": [],
   "source": [
    "model = Model(inputs=base_model.input, outputs=headModel)"
   ]
  },
  {
   "cell_type": "code",
   "execution_count": 66,
   "id": "1361f231",
   "metadata": {},
   "outputs": [],
   "source": [
    "for layer in base_model.layers:\n",
    "\tlayer.trainable = False"
   ]
  },
  {
   "cell_type": "code",
   "execution_count": null,
   "id": "7bf972ea",
   "metadata": {},
   "outputs": [],
   "source": []
  },
  {
   "cell_type": "code",
   "execution_count": null,
   "id": "07345085",
   "metadata": {},
   "outputs": [],
   "source": []
  },
  {
   "cell_type": "code",
   "execution_count": 67,
   "id": "389b27c5",
   "metadata": {},
   "outputs": [],
   "source": [
    "from tensorflow.keras.optimizers import Adam"
   ]
  },
  {
   "cell_type": "code",
   "execution_count": 68,
   "id": "bfc6418d",
   "metadata": {},
   "outputs": [
    {
     "name": "stderr",
     "output_type": "stream",
     "text": [
      "C:\\Users\\91938\\anaconda3\\lib\\site-packages\\keras\\optimizer_v2\\adam.py:105: UserWarning: The `lr` argument is deprecated, use `learning_rate` instead.\n",
      "  super(Adam, self).__init__(name, **kwargs)\n"
     ]
    }
   ],
   "source": [
    "optim = Adam(lr=Learning_rate, decay=Learning_rate/ Epochs)\n",
    "model.compile(loss=\"binary_crossentropy\", optimizer=optim,metrics=[\"accuracy\"])"
   ]
  },
  {
   "cell_type": "code",
   "execution_count": 69,
   "id": "a6ac8217",
   "metadata": {},
   "outputs": [
    {
     "name": "stdout",
     "output_type": "stream",
     "text": [
      "Epoch 1/15\n",
      "21/21 [==============================] - 15s 546ms/step - loss: 0.2893 - accuracy: 0.8757 - val_loss: 0.0813 - val_accuracy: 0.9852\n",
      "Epoch 2/15\n",
      "21/21 [==============================] - 10s 491ms/step - loss: 0.0952 - accuracy: 0.9631 - val_loss: 0.0436 - val_accuracy: 0.9852\n",
      "Epoch 3/15\n",
      "21/21 [==============================] - 10s 493ms/step - loss: 0.0710 - accuracy: 0.9748 - val_loss: 0.0418 - val_accuracy: 0.9926\n",
      "Epoch 4/15\n",
      "21/21 [==============================] - 11s 535ms/step - loss: 0.0523 - accuracy: 0.9864 - val_loss: 0.0275 - val_accuracy: 0.9926\n",
      "Epoch 5/15\n",
      "21/21 [==============================] - 11s 498ms/step - loss: 0.0318 - accuracy: 0.9864 - val_loss: 0.0169 - val_accuracy: 0.9926\n",
      "Epoch 6/15\n",
      "21/21 [==============================] - 11s 499ms/step - loss: 0.0236 - accuracy: 0.9903 - val_loss: 0.0140 - val_accuracy: 0.9926\n",
      "Epoch 7/15\n",
      "21/21 [==============================] - 11s 497ms/step - loss: 0.0194 - accuracy: 0.9981 - val_loss: 0.0131 - val_accuracy: 0.9926\n",
      "Epoch 8/15\n",
      "21/21 [==============================] - 11s 497ms/step - loss: 0.0180 - accuracy: 0.9942 - val_loss: 0.0101 - val_accuracy: 0.9926\n",
      "Epoch 9/15\n",
      "21/21 [==============================] - 11s 496ms/step - loss: 0.0136 - accuracy: 0.9961 - val_loss: 0.0120 - val_accuracy: 0.9926\n",
      "Epoch 10/15\n",
      "21/21 [==============================] - 11s 502ms/step - loss: 0.0087 - accuracy: 1.0000 - val_loss: 0.0144 - val_accuracy: 0.9926\n",
      "Epoch 11/15\n",
      "21/21 [==============================] - 11s 504ms/step - loss: 0.0157 - accuracy: 0.9981 - val_loss: 0.0070 - val_accuracy: 1.0000\n",
      "Epoch 12/15\n",
      "21/21 [==============================] - 11s 506ms/step - loss: 0.0149 - accuracy: 0.9962 - val_loss: 0.0156 - val_accuracy: 0.9926\n",
      "Epoch 13/15\n",
      "21/21 [==============================] - 11s 505ms/step - loss: 0.0124 - accuracy: 0.9961 - val_loss: 0.0225 - val_accuracy: 0.9926\n",
      "Epoch 14/15\n",
      "21/21 [==============================] - 11s 508ms/step - loss: 0.0208 - accuracy: 0.9903 - val_loss: 0.0055 - val_accuracy: 1.0000\n",
      "Epoch 15/15\n",
      "21/21 [==============================] - 11s 500ms/step - loss: 0.0173 - accuracy: 0.9961 - val_loss: 0.0064 - val_accuracy: 1.0000\n"
     ]
    }
   ],
   "source": [
    "H = model.fit(\n",
    "    aug.flow(X_train, y_train, batch_size=BS),\n",
    "    steps_per_epoch=len(X_train) // BS,\n",
    "    validation_data=(X_test,y_test),\n",
    "    validation_steps=len(X_test) // BS,\n",
    "    epochs=Epochs)"
   ]
  },
  {
   "cell_type": "code",
   "execution_count": null,
   "id": "b0b45708",
   "metadata": {},
   "outputs": [],
   "source": []
  },
  {
   "cell_type": "code",
   "execution_count": 70,
   "id": "f09a7a85",
   "metadata": {},
   "outputs": [],
   "source": [
    "predictions = model.predict(X_test, batch_size=BS)"
   ]
  },
  {
   "cell_type": "code",
   "execution_count": 71,
   "id": "d3e9ae53",
   "metadata": {},
   "outputs": [],
   "source": [
    "predictions = np.argmax(predictions, axis=1)"
   ]
  },
  {
   "cell_type": "code",
   "execution_count": 72,
   "id": "2b9d3dd9",
   "metadata": {},
   "outputs": [],
   "source": [
    "from sklearn.metrics import classification_report"
   ]
  },
  {
   "cell_type": "code",
   "execution_count": 73,
   "id": "b36d5405",
   "metadata": {},
   "outputs": [
    {
     "data": {
      "text/plain": [
       "(224, 224, 3)"
      ]
     },
     "execution_count": 73,
     "metadata": {},
     "output_type": "execute_result"
    }
   ],
   "source": [
    "X_test[1].shape"
   ]
  },
  {
   "cell_type": "code",
   "execution_count": 74,
   "id": "94cfa4c0",
   "metadata": {},
   "outputs": [
    {
     "name": "stdout",
     "output_type": "stream",
     "text": [
      "               precision    recall  f1-score   support\n",
      "\n",
      "   with_knife       1.00      1.00      1.00       115\n",
      "without_knife       1.00      1.00      1.00        20\n",
      "\n",
      "     accuracy                           1.00       135\n",
      "    macro avg       1.00      1.00      1.00       135\n",
      " weighted avg       1.00      1.00      1.00       135\n",
      "\n"
     ]
    }
   ],
   "source": [
    "print(classification_report(y_test.argmax(axis=1), predictions,target_names=lb.classes_))"
   ]
  },
  {
   "cell_type": "code",
   "execution_count": null,
   "id": "3a0f0540",
   "metadata": {},
   "outputs": [],
   "source": []
  },
  {
   "cell_type": "code",
   "execution_count": null,
   "id": "3fff687c",
   "metadata": {},
   "outputs": [],
   "source": []
  },
  {
   "cell_type": "code",
   "execution_count": 75,
   "id": "5b22c1ae",
   "metadata": {},
   "outputs": [],
   "source": [
    "model.save(\"knife_detector.model4\", save_format=\"h5\")"
   ]
  },
  {
   "cell_type": "code",
   "execution_count": 76,
   "id": "10783acb",
   "metadata": {},
   "outputs": [],
   "source": [
    "import matplotlib.pyplot as plt"
   ]
  },
  {
   "cell_type": "code",
   "execution_count": 77,
   "id": "80843549",
   "metadata": {},
   "outputs": [
    {
     "data": {
      "text/plain": [
       "<matplotlib.legend.Legend at 0x2ae8d95d7f0>"
      ]
     },
     "execution_count": 77,
     "metadata": {},
     "output_type": "execute_result"
    },
    {
     "data": {
      "image/png": "[encoded data removed]",
      "text/plain": [
       "<Figure size 432x288 with 1 Axes>"
      ]
     },
     "metadata": {},
     "output_type": "display_data"
    }
   ],
   "source": [
    "N = Epochs\n",
    "plt.style.use(\"ggplot\")\n",
    "plt.figure()\n",
    "plt.plot(np.arange(0, N), H.history[\"loss\"], label=\"train_loss\")\n",
    "plt.plot(np.arange(0, N), H.history[\"val_loss\"], label=\"val_loss\")\n",
    "plt.plot(np.arange(0, N), H.history[\"accuracy\"], label=\"train_acc\")\n",
    "plt.plot(np.arange(0, N), H.history[\"val_accuracy\"], label=\"val_acc\")\n",
    "plt.title(\"Training Loss and Accuracy\")\n",
    "plt.xlabel(\"Epoch #\")\n",
    "plt.ylabel(\"Loss/Accuracy\")\n",
    "plt.legend(loc=\"lower left\")"
   ]
  },
  {
   "cell_type": "code",
   "execution_count": null,
   "id": "85c59032",
   "metadata": {},
   "outputs": [],
   "source": []
  },
  {
   "cell_type": "code",
   "execution_count": null,
   "id": "ed86fe3b",
   "metadata": {},
   "outputs": [],
   "source": []
  }
 ],
 "metadata": {
  "kernelspec": {
   "display_name": "Python 3 (ipykernel)",
   "language": "python",
   "name": "python3"
  },
  "language_info": {
   "codemirror_mode": {
    "name": "ipython",
    "version": 3
   },
   "file_extension": ".py",
   "mimetype": "text/x-python",
   "name": "python",
   "nbconvert_exporter": "python",
   "pygments_lexer": "ipython3",
   "version": "3.9.7"
  }
 },
 "nbformat": 4,
 "nbformat_minor": 5
}
